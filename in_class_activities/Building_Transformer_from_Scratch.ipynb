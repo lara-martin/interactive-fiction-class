{
  "nbformat": 4,
  "nbformat_minor": 0,
  "metadata": {
    "colab": {
      "provenance": []
    },
    "kernelspec": {
      "name": "python3",
      "display_name": "Python 3"
    },
    "language_info": {
      "name": "python"
    }
  },
  "cells": [
    {
      "cell_type": "code",
      "execution_count": 4,
      "metadata": {
        "id": "Z2jPx0Ti-tyi"
      },
      "outputs": [],
      "source": [
        "import torch\n",
        "import torch.nn as nn\n",
        "import torch.optim as optim\n",
        "import torch.utils.data as data\n",
        "import math\n",
        "import copy"
      ]
    },
    {
      "cell_type": "code",
      "source": [
        "class MultiHeadAttention(nn.Module):\n",
        "    def __init__(self, d_model, num_heads):\n",
        "        super(MultiHeadAttention, self).__init__()\n",
        "        assert d_model % num_heads == 0, \"d_model must be divisible by num_heads\"\n",
        "\n",
        "        # Initialize dimensions\n",
        "        self.d_model = d_model # Model's dimension\n",
        "        self.num_heads = num_heads # Number of attention heads\n",
        "        self.d_k = d_model // num_heads # Dimension of each head's key, query, and value\n",
        "\n",
        "        # Linear layers for transforming inputs\n",
        "        self.W_q = nn.Linear(d_model, d_model) # Query transformation\n",
        "        self.W_k = nn.Linear(d_model, d_model) # Key transformation\n",
        "        self.W_v = nn.Linear(d_model, d_model) # Value transformation\n",
        "        self.W_o = nn.Linear(d_model, d_model) # Output transformation\n",
        "\n",
        "    def scaled_dot_product_attention(self, Q, K, V, mask=None):\n",
        "        # Calculate attention scores\n",
        "        attn_scores = torch.matmul(Q, K.transpose(-2, -1)) / math.sqrt(self.d_k)\n",
        "\n",
        "        # Apply mask if provided (useful for preventing attention to certain parts like padding)\n",
        "        if mask is not None:\n",
        "            attn_scores = attn_scores.masked_fill(mask == 0, -1e9)\n",
        "\n",
        "        # Softmax is applied to obtain attention probabilities\n",
        "        attn_probs = torch.softmax(attn_scores, dim=-1)\n",
        "\n",
        "        # Multiply by values to obtain the final output\n",
        "        output = torch.matmul(attn_probs, V)\n",
        "        return output\n",
        "\n",
        "    def split_heads(self, x):\n",
        "        # Reshape the input to have num_heads for multi-head attention\n",
        "        batch_size, seq_length, d_model = x.size()\n",
        "        return x.view(batch_size, seq_length, self.num_heads, self.d_k).transpose(1, 2)\n",
        "\n",
        "    def combine_heads(self, x):\n",
        "        # Combine the multiple heads back to original shape\n",
        "        batch_size, _, seq_length, d_k = x.size()\n",
        "        return x.transpose(1, 2).contiguous().view(batch_size, seq_length, self.d_model)\n",
        "\n",
        "    def forward(self, Q, K, V, mask=None):\n",
        "        # Apply linear transformations and split heads\n",
        "        Q = self.split_heads(self.W_q(Q))\n",
        "        K = self.split_heads(self.W_k(K))\n",
        "        V = self.split_heads(self.W_v(V))\n",
        "\n",
        "        # Perform scaled dot-product attention\n",
        "        attn_output = self.scaled_dot_product_attention(Q, K, V, mask)\n",
        "\n",
        "        # Combine heads and apply output transformation\n",
        "        output = self.W_o(self.combine_heads(attn_output))\n",
        "        return output\n"
      ],
      "metadata": {
        "id": "-V3Uitek_YxW"
      },
      "execution_count": 5,
      "outputs": []
    },
    {
      "cell_type": "code",
      "source": [
        "class PositionWiseFeedForward(nn.Module):\n",
        "    def __init__(self, d_model, d_ff):\n",
        "        super(PositionWiseFeedForward, self).__init__()\n",
        "        self.fc1 = nn.Linear(d_model, d_ff)\n",
        "        self.fc2 = nn.Linear(d_ff, d_model)\n",
        "        self.relu = nn.ReLU()\n",
        "\n",
        "    def forward(self, x):\n",
        "        return self.fc2(self.relu(self.fc1(x)))"
      ],
      "metadata": {
        "id": "gQVt3FheAsS4"
      },
      "execution_count": 6,
      "outputs": []
    },
    {
      "cell_type": "code",
      "source": [
        "class PositionalEncoding(nn.Module):\n",
        "    def __init__(self, d_model, max_seq_length):\n",
        "        super(PositionalEncoding, self).__init__()\n",
        "\n",
        "        pe = torch.zeros(max_seq_length, d_model)\n",
        "        position = torch.arange(0, max_seq_length, dtype=torch.float).unsqueeze(1)\n",
        "        div_term = torch.exp(torch.arange(0, d_model, 2).float() * -(math.log(10000.0) / d_model))\n",
        "\n",
        "        pe[:, 0::2] = torch.sin(position * div_term)\n",
        "        pe[:, 1::2] = torch.cos(position * div_term)\n",
        "\n",
        "        self.register_buffer('pe', pe.unsqueeze(0))\n",
        "\n",
        "    def forward(self, x):\n",
        "        return x + self.pe[:, :x.size(1)]"
      ],
      "metadata": {
        "id": "Fia3f_7tAuWR"
      },
      "execution_count": 7,
      "outputs": []
    },
    {
      "cell_type": "code",
      "source": [
        "class EncoderLayer(nn.Module):\n",
        "    def __init__(self, d_model, num_heads, d_ff, dropout):\n",
        "        super(EncoderLayer, self).__init__()\n",
        "        self.self_attn = MultiHeadAttention(d_model, num_heads)\n",
        "        self.feed_forward = PositionWiseFeedForward(d_model, d_ff)\n",
        "        self.norm1 = nn.LayerNorm(d_model)\n",
        "        self.norm2 = nn.LayerNorm(d_model)\n",
        "        self.dropout = nn.Dropout(dropout)\n",
        "\n",
        "    def forward(self, x, mask):\n",
        "        attn_output = self.self_attn(x, x, x, mask)\n",
        "        x = self.norm1(x + self.dropout(attn_output))\n",
        "        ff_output = self.feed_forward(x)\n",
        "        x = self.norm2(x + self.dropout(ff_output))\n",
        "        return x"
      ],
      "metadata": {
        "id": "4AwqH3ssAwYP"
      },
      "execution_count": 8,
      "outputs": []
    },
    {
      "cell_type": "code",
      "source": [
        "class DecoderLayer(nn.Module):\n",
        "    def __init__(self, d_model, num_heads, d_ff, dropout):\n",
        "        super(DecoderLayer, self).__init__()\n",
        "        self.self_attn = MultiHeadAttention(d_model, num_heads)\n",
        "        self.cross_attn = MultiHeadAttention(d_model, num_heads)\n",
        "        self.feed_forward = PositionWiseFeedForward(d_model, d_ff)\n",
        "        self.norm1 = nn.LayerNorm(d_model)\n",
        "        self.norm2 = nn.LayerNorm(d_model)\n",
        "        self.norm3 = nn.LayerNorm(d_model)\n",
        "        self.dropout = nn.Dropout(dropout)\n",
        "\n",
        "    def forward(self, x, enc_output, src_mask, tgt_mask):\n",
        "        attn_output = self.self_attn(x, x, x, tgt_mask)\n",
        "        x = self.norm1(x + self.dropout(attn_output))\n",
        "        attn_output = self.cross_attn(x, enc_output, enc_output, src_mask)\n",
        "        x = self.norm2(x + self.dropout(attn_output))\n",
        "        ff_output = self.feed_forward(x)\n",
        "        x = self.norm3(x + self.dropout(ff_output))\n",
        "        return x"
      ],
      "metadata": {
        "id": "vv5NwkaBAyr6"
      },
      "execution_count": 9,
      "outputs": []
    },
    {
      "cell_type": "code",
      "source": [
        "class Transformer(nn.Module):\n",
        "    def __init__(self, src_vocab_size, tgt_vocab_size, d_model, num_heads, num_layers, d_ff, max_seq_length, dropout):\n",
        "        super(Transformer, self).__init__()\n",
        "        self.encoder_embedding = nn.Embedding(src_vocab_size, d_model)\n",
        "        self.decoder_embedding = nn.Embedding(tgt_vocab_size, d_model)\n",
        "        self.positional_encoding = PositionalEncoding(d_model, max_seq_length)\n",
        "\n",
        "        self.encoder_layers = nn.ModuleList([EncoderLayer(d_model, num_heads, d_ff, dropout) for _ in range(num_layers)])\n",
        "        self.decoder_layers = nn.ModuleList([DecoderLayer(d_model, num_heads, d_ff, dropout) for _ in range(num_layers)])\n",
        "\n",
        "        self.fc = nn.Linear(d_model, tgt_vocab_size)\n",
        "        self.dropout = nn.Dropout(dropout)\n",
        "\n",
        "    def generate_mask(self, src, tgt):\n",
        "        src_mask = (src != 0).unsqueeze(1).unsqueeze(2)\n",
        "        tgt_mask = (tgt != 0).unsqueeze(1).unsqueeze(3)\n",
        "        seq_length = tgt.size(1)\n",
        "        nopeak_mask = (1 - torch.triu(torch.ones(1, seq_length, seq_length), diagonal=1)).bool()\n",
        "        tgt_mask = tgt_mask & nopeak_mask\n",
        "        return src_mask, tgt_mask\n",
        "\n",
        "    def forward(self, src, tgt):\n",
        "        src_mask, tgt_mask = self.generate_mask(src, tgt)\n",
        "        src_embedded = self.dropout(self.positional_encoding(self.encoder_embedding(src)))\n",
        "        tgt_embedded = self.dropout(self.positional_encoding(self.decoder_embedding(tgt)))\n",
        "\n",
        "        enc_output = src_embedded\n",
        "        for enc_layer in self.encoder_layers:\n",
        "            enc_output = enc_layer(enc_output, src_mask)\n",
        "\n",
        "        dec_output = tgt_embedded\n",
        "        for dec_layer in self.decoder_layers:\n",
        "            dec_output = dec_layer(dec_output, enc_output, src_mask, tgt_mask)\n",
        "\n",
        "        output = self.fc(dec_output)\n",
        "        return output"
      ],
      "metadata": {
        "id": "dQaJcslAA0th"
      },
      "execution_count": 10,
      "outputs": []
    },
    {
      "cell_type": "code",
      "source": [
        "src_vocab_size = 5000\n",
        "tgt_vocab_size = 5000\n",
        "d_model = 512\n",
        "num_heads = 8\n",
        "num_layers = 6\n",
        "d_ff = 2048\n",
        "max_seq_length = 100\n",
        "dropout = 0.1\n",
        "\n",
        "transformer = Transformer(src_vocab_size, tgt_vocab_size, d_model, num_heads, num_layers, d_ff, max_seq_length, dropout)\n",
        "\n",
        "# Generate random sample data\n",
        "src_data = torch.randint(1, src_vocab_size, (64, max_seq_length))  # (batch_size, seq_length)\n",
        "tgt_data = torch.randint(1, tgt_vocab_size, (64, max_seq_length))  # (batch_size, seq_length)"
      ],
      "metadata": {
        "id": "-Md7zgqOA3aU"
      },
      "execution_count": 11,
      "outputs": []
    },
    {
      "cell_type": "code",
      "source": [
        "criterion = nn.CrossEntropyLoss(ignore_index=0)\n",
        "optimizer = optim.Adam(transformer.parameters(), lr=0.0001, betas=(0.9, 0.98), eps=1e-9)\n",
        "\n",
        "transformer.train()\n",
        "\n",
        "for epoch in range(100):\n",
        "    optimizer.zero_grad()\n",
        "    output = transformer(src_data, tgt_data[:, :-1])\n",
        "    loss = criterion(output.contiguous().view(-1, tgt_vocab_size), tgt_data[:, 1:].contiguous().view(-1))\n",
        "    loss.backward()\n",
        "    optimizer.step()\n",
        "    print(f\"Epoch: {epoch+1}, Loss: {loss.item()}\")"
      ],
      "metadata": {
        "colab": {
          "base_uri": "https://localhost:8080/"
        },
        "id": "NKRlAGZ1A7Ck",
        "outputId": "13459287-fcd1-4587-fb80-faeed4cae8cf"
      },
      "execution_count": 12,
      "outputs": [
        {
          "output_type": "stream",
          "name": "stdout",
          "text": [
            "Epoch: 1, Loss: 8.693095207214355\n",
            "Epoch: 2, Loss: 8.550588607788086\n",
            "Epoch: 3, Loss: 8.480085372924805\n",
            "Epoch: 4, Loss: 8.425590515136719\n",
            "Epoch: 5, Loss: 8.359477043151855\n",
            "Epoch: 6, Loss: 8.288912773132324\n",
            "Epoch: 7, Loss: 8.210358619689941\n",
            "Epoch: 8, Loss: 8.127718925476074\n",
            "Epoch: 9, Loss: 8.045276641845703\n",
            "Epoch: 10, Loss: 7.961146354675293\n",
            "Epoch: 11, Loss: 7.8783440589904785\n",
            "Epoch: 12, Loss: 7.797617435455322\n",
            "Epoch: 13, Loss: 7.717531204223633\n",
            "Epoch: 14, Loss: 7.630615711212158\n",
            "Epoch: 15, Loss: 7.543465614318848\n",
            "Epoch: 16, Loss: 7.46453857421875\n",
            "Epoch: 17, Loss: 7.384075164794922\n",
            "Epoch: 18, Loss: 7.297016143798828\n",
            "Epoch: 19, Loss: 7.219724178314209\n",
            "Epoch: 20, Loss: 7.135855197906494\n",
            "Epoch: 21, Loss: 7.0544610023498535\n",
            "Epoch: 22, Loss: 6.981574058532715\n",
            "Epoch: 23, Loss: 6.901689052581787\n",
            "Epoch: 24, Loss: 6.830784797668457\n",
            "Epoch: 25, Loss: 6.746931076049805\n",
            "Epoch: 26, Loss: 6.681971549987793\n",
            "Epoch: 27, Loss: 6.5994110107421875\n",
            "Epoch: 28, Loss: 6.537391662597656\n",
            "Epoch: 29, Loss: 6.462634086608887\n",
            "Epoch: 30, Loss: 6.393083572387695\n",
            "Epoch: 31, Loss: 6.323979377746582\n",
            "Epoch: 32, Loss: 6.259692668914795\n",
            "Epoch: 33, Loss: 6.188986301422119\n",
            "Epoch: 34, Loss: 6.115767478942871\n",
            "Epoch: 35, Loss: 6.0530781745910645\n",
            "Epoch: 36, Loss: 5.991798400878906\n",
            "Epoch: 37, Loss: 5.919013023376465\n",
            "Epoch: 38, Loss: 5.857771873474121\n",
            "Epoch: 39, Loss: 5.79267692565918\n",
            "Epoch: 40, Loss: 5.733570575714111\n",
            "Epoch: 41, Loss: 5.6684346199035645\n",
            "Epoch: 42, Loss: 5.604828834533691\n",
            "Epoch: 43, Loss: 5.543010711669922\n",
            "Epoch: 44, Loss: 5.4839630126953125\n",
            "Epoch: 45, Loss: 5.426035404205322\n",
            "Epoch: 46, Loss: 5.365348815917969\n",
            "Epoch: 47, Loss: 5.312673091888428\n",
            "Epoch: 48, Loss: 5.253998756408691\n",
            "Epoch: 49, Loss: 5.19135856628418\n",
            "Epoch: 50, Loss: 5.133912563323975\n",
            "Epoch: 51, Loss: 5.085473537445068\n",
            "Epoch: 52, Loss: 5.023231506347656\n",
            "Epoch: 53, Loss: 4.966209411621094\n",
            "Epoch: 54, Loss: 4.906245231628418\n",
            "Epoch: 55, Loss: 4.8567023277282715\n",
            "Epoch: 56, Loss: 4.7999749183654785\n",
            "Epoch: 57, Loss: 4.746603488922119\n",
            "Epoch: 58, Loss: 4.690035343170166\n",
            "Epoch: 59, Loss: 4.643710613250732\n",
            "Epoch: 60, Loss: 4.582396030426025\n",
            "Epoch: 61, Loss: 4.543153762817383\n",
            "Epoch: 62, Loss: 4.48936653137207\n",
            "Epoch: 63, Loss: 4.430762767791748\n",
            "Epoch: 64, Loss: 4.385220527648926\n",
            "Epoch: 65, Loss: 4.3289947509765625\n",
            "Epoch: 66, Loss: 4.282604217529297\n",
            "Epoch: 67, Loss: 4.227753639221191\n",
            "Epoch: 68, Loss: 4.180255889892578\n",
            "Epoch: 69, Loss: 4.128600120544434\n",
            "Epoch: 70, Loss: 4.085470199584961\n",
            "Epoch: 71, Loss: 4.028777599334717\n",
            "Epoch: 72, Loss: 3.986478567123413\n",
            "Epoch: 73, Loss: 3.9354970455169678\n",
            "Epoch: 74, Loss: 3.891803503036499\n",
            "Epoch: 75, Loss: 3.840736150741577\n",
            "Epoch: 76, Loss: 3.797409772872925\n",
            "Epoch: 77, Loss: 3.747664213180542\n",
            "Epoch: 78, Loss: 3.704789876937866\n",
            "Epoch: 79, Loss: 3.6511380672454834\n",
            "Epoch: 80, Loss: 3.607456684112549\n",
            "Epoch: 81, Loss: 3.555507183074951\n",
            "Epoch: 82, Loss: 3.51422119140625\n",
            "Epoch: 83, Loss: 3.461782455444336\n",
            "Epoch: 84, Loss: 3.425947666168213\n",
            "Epoch: 85, Loss: 3.385612726211548\n",
            "Epoch: 86, Loss: 3.3330583572387695\n",
            "Epoch: 87, Loss: 3.2857656478881836\n",
            "Epoch: 88, Loss: 3.2426302433013916\n",
            "Epoch: 89, Loss: 3.201557159423828\n",
            "Epoch: 90, Loss: 3.1460254192352295\n",
            "Epoch: 91, Loss: 3.1049818992614746\n",
            "Epoch: 92, Loss: 3.063506841659546\n",
            "Epoch: 93, Loss: 3.021355628967285\n",
            "Epoch: 94, Loss: 2.9788453578948975\n",
            "Epoch: 95, Loss: 2.934440851211548\n",
            "Epoch: 96, Loss: 2.8935317993164062\n",
            "Epoch: 97, Loss: 2.8484652042388916\n",
            "Epoch: 98, Loss: 2.804591655731201\n",
            "Epoch: 99, Loss: 2.7581679821014404\n",
            "Epoch: 100, Loss: 2.717923879623413\n"
          ]
        }
      ]
    },
    {
      "cell_type": "code",
      "source": [
        "transformer.eval()\n",
        "\n",
        "val_src_data = torch.randint(1, src_vocab_size, (64, max_seq_length))\n",
        "val_tgt_data = torch.randint(1, tgt_vocab_size, (64, max_seq_length))\n",
        "\n",
        "with torch.no_grad():\n",
        "\n",
        "    val_output = transformer(val_src_data, val_tgt_data[:, :-1])\n",
        "    val_loss = criterion(val_output.contiguous().view(-1, tgt_vocab_size), val_tgt_data[:, 1:].contiguous().view(-1))\n",
        "    print(f\"Validation Loss: {val_loss.item()}\")"
      ],
      "metadata": {
        "colab": {
          "base_uri": "https://localhost:8080/"
        },
        "id": "tsONccJiBD74",
        "outputId": "2c4f2ea5-5ebb-4cf8-f7fa-39cf93f21027"
      },
      "execution_count": 13,
      "outputs": [
        {
          "output_type": "stream",
          "name": "stdout",
          "text": [
            "Validation Loss: 8.820590019226074\n"
          ]
        }
      ]
    }
  ]
}